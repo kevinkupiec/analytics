{
 "cells": [
  {
   "cell_type": "markdown",
   "metadata": {},
   "source": [
    "### Environment\n",
    "\n",
    "To run this notebook, open a database connection to warehouse.ofh.priv and set the following environment variables *in* in the shell process running ipython:\n",
    "\n",
    "``` shell\n",
    "export PACIOLI_DB=\"postgresql\"\n",
    "export PACIOLI_DB_URI=\"?:?@localhost:2001/mellon\"\n",
    "export PACIOLI_DB_URL=\"postgresql://?:?@localhost:2001/mellon\"\n",
    "```"
   ]
  },
  {
   "cell_type": "code",
   "execution_count": 1,
   "metadata": {
    "collapsed": true
   },
   "outputs": [],
   "source": [
    "%matplotlib inline"
   ]
  },
  {
   "cell_type": "code",
   "execution_count": 2,
   "metadata": {
    "collapsed": true
   },
   "outputs": [],
   "source": [
    "from datetime import datetime\n",
    "import numpy as np\n",
    "import pandas as pd\n",
    "from pandas.tslib import Timestamp\n",
    "import seaborn as sns\n",
    "from sqlalchemy import and_\n",
    "import matplotlib.pyplot as plt"
   ]
  },
  {
   "cell_type": "code",
   "execution_count": 3,
   "metadata": {
    "collapsed": true
   },
   "outputs": [],
   "source": [
    "def join_related(df, join_target=None, join_on=None, columns=None):\n",
    "    \"\"\"Extend an existing dataframe with columns from a related table.\n",
    "\n",
    "    :type df: pandas.DataFrame\n",
    "    :param df: existing dataframe to be extended.\n",
    "\n",
    "    :type join_target: str\n",
    "    :param join_target: the string name of the collection from which to\n",
    "        collect additional data.\n",
    "\n",
    "    :type join_on: str\n",
    "    :param join_on: key on existing df with which to execute the join.\n",
    "\n",
    "    :type columns: list of strings\n",
    "    :param columns: optional list of columns on join_target to include,\n",
    "        defaulting to all columns when none are specified.\n",
    "\n",
    "    \"\"\"\n",
    "    # verify join_on\n",
    "    if join_on not in df.columns:\n",
    "        raise Exception(\n",
    "            'join_on ({}) must be name of column in df ({})'.format(\n",
    "                join_on, df.columns))\n",
    "\n",
    "    # identify target collection\n",
    "    target = getattr(db, join_target, None)\n",
    "    if target is None:\n",
    "        raise Exception(\n",
    "            '{} is not a valid db collection'.format(join_target))\n",
    "\n",
    "    # retrieve target data\n",
    "    filter_clause = lambda query: query.filter(\n",
    "        target.model.uid.in_(df[join_on].dropna().unique()))\n",
    "    join = target.search(filter_clause=filter_clause, dataframe=True)\n",
    "    join = join.set_index('uid')\n",
    "    if columns is not None:\n",
    "        join = join[columns]\n",
    "\n",
    "    # return merged dataframe\n",
    "    # return df.join(join, on=join_on)\n",
    "    return df.join(join, on=join_on)"
   ]
  },
  {
   "cell_type": "code",
   "execution_count": 4,
   "metadata": {
    "collapsed": true
   },
   "outputs": [],
   "source": [
    "def join_stepwise(df, join_steps):\n",
    "    for step in join_steps:\n",
    "        df = join_related(df, *step)\n",
    "    return df"
   ]
  },
  {
   "cell_type": "code",
   "execution_count": 5,
   "metadata": {
    "collapsed": true
   },
   "outputs": [],
   "source": [
    "def make_cartesian_index(df):\n",
    "    new = pd.MultiIndex.from_product(\n",
    "        df.index.levels, names=df.index.names)\n",
    "    return df.reindex(new)"
   ]
  },
  {
   "cell_type": "code",
   "execution_count": 6,
   "metadata": {
    "collapsed": true
   },
   "outputs": [],
   "source": [
    "def datetime_comparator(dt):\n",
    "    return dt.strftime('%Y-%m-%d %H:%M:%S')"
   ]
  },
  {
   "cell_type": "code",
   "execution_count": 7,
   "metadata": {
    "collapsed": true
   },
   "outputs": [],
   "source": [
    "def append_derived_column(df, column_name, func=lambda x: x):\n",
    "    \"\"\"Convenience function for appending derived column to a dataframe.\"\"\"\n",
    "    if not isinstance(df, pd.DataFrame):\n",
    "        raise Exception(\n",
    "            '`append_derived_column`expected pd.DataFrame, got {}'.format(\n",
    "                type(df)))\n",
    "    df[column_name] = df.apply(lambda row: func(row), axis=1)\n",
    "    return df\n",
    "\n",
    "\n",
    "def append_full_name(df, first='legal_first_name', last='legal_last_name',\n",
    "                     alias='full_name'):\n",
    "    \"\"\"Combine first and last name into a separate field.\n",
    "\n",
    "    :type df: pandas.DataFrame\n",
    "    :param df: the dataframe on which to operate\n",
    "\n",
    "    :type first: str\n",
    "    :param first: the name of the field to use as first name\n",
    "\n",
    "    :type last: str\n",
    "    :param last: the name of the field to use as last name\n",
    "\n",
    "    :type alias: str\n",
    "    :param alias: the string with which to name the new, combined field\n",
    "\n",
    "    \"\"\"\n",
    "    func = lambda row: '{} {}'.format(row[first], row[last])\n",
    "    df = append_derived_column(df, alias, func=func)"
   ]
  },
  {
   "cell_type": "code",
   "execution_count": 8,
   "metadata": {},
   "outputs": [],
   "source": [
    "from pacioli import connect"
   ]
  },
  {
   "cell_type": "code",
   "execution_count": 9,
   "metadata": {
    "collapsed": true
   },
   "outputs": [],
   "source": [
    "db = connect()"
   ]
  }
 ],
 "metadata": {
  "kernelspec": {
   "display_name": "Python 3",
   "language": "python",
   "name": "python3"
  },
  "language_info": {
   "codemirror_mode": {
    "name": "ipython",
    "version": 3
   },
   "file_extension": ".py",
   "mimetype": "text/x-python",
   "name": "python",
   "nbconvert_exporter": "python",
   "pygments_lexer": "ipython3",
   "version": "3.6.1"
  }
 },
 "nbformat": 4,
 "nbformat_minor": 1
}
